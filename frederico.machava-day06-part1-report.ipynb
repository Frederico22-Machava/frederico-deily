{
 "cells": [
  {
   "cell_type": "markdown",
   "id": "51670df3-65a6-45b8-8ae9-455a09e6f99c",
   "metadata": {},
   "source": [
    "## Frederico Armando Machava"
   ]
  },
  {
   "cell_type": "markdown",
   "id": "0bae1f87-011c-4cb2-acc3-c9c2e5fd4133",
   "metadata": {},
   "source": [
    "October 1, 2024"
   ]
  },
  {
   "cell_type": "markdown",
   "id": "5ca0076e-a2a8-4311-bc8e-8be348f235e6",
   "metadata": {},
   "source": [
    "## Summations and Products"
   ]
  },
  {
   "cell_type": "markdown",
   "id": "88abef4d-e67b-4121-be84-fc9f27073b6b",
   "metadata": {},
   "source": [
    "1. Compute the following expressions for a natural number n chosen by the user:\n",
    "**(i)**$$\\sum^{n-1}_{\\substack{i=0, \\\\ \\ i \\ is \\ odd}}(i+3)$$\n",
    "**(ii)**$$\\prod^{n-1}_{\\substack{i = 0, \\\\ \\ i \\ is \\ even}}(i+3)$$\n",
    "3).\r"
   ]
  },
  {
   "cell_type": "code",
   "execution_count": 62,
   "id": "84c320c6-91a4-4255-a419-7d9052323425",
   "metadata": {},
   "outputs": [
    {
     "name": "stdin",
     "output_type": "stream",
     "text": [
      "Enter a natural n  2\n"
     ]
    },
    {
     "name": "stdout",
     "output_type": "stream",
     "text": [
      "The sum of odd number from 0 to 1 is 4\n"
     ]
    }
   ],
   "source": [
    "num = int(input(\"Enter a natural n \"))\n",
    "summ = 0\n",
    "for i in range(num) :\n",
    "    if (i%2 !=0):\n",
    "        summ = summ + i + 3\n",
    "print(\"The sum of odd number from 0 to {} is {}\".format(num - 1, summ))"
   ]
  },
  {
   "cell_type": "code",
   "execution_count": 58,
   "id": "1a5f4a74-7db0-4ced-9be3-45c1fa4cbf2d",
   "metadata": {},
   "outputs": [
    {
     "name": "stdin",
     "output_type": "stream",
     "text": [
      "Enter a natural n  2\n"
     ]
    },
    {
     "name": "stdout",
     "output_type": "stream",
     "text": [
      "The product of even number from 0 to 1 is 3\n"
     ]
    }
   ],
   "source": [
    "num = int(input(\"Enter a natural n \"))\n",
    "prod = 1\n",
    "for i in range(num) :\n",
    "    if (i%2 ==0):\n",
    "        prod = prod * (i + 3)\n",
    "print(\"The product of even number from 0 to {} is {}\".format(num - 1, prod))"
   ]
  },
  {
   "cell_type": "code",
   "execution_count": null,
   "id": "f03bfafd-9a73-470a-ac6e-6d55e444688c",
   "metadata": {},
   "outputs": [],
   "source": []
  },
  {
   "cell_type": "markdown",
   "id": "e236ca99-e32c-4d03-8cd5-f1ece92df966",
   "metadata": {},
   "source": [
    "2. Write a program that reads the number of the day of the week (from 0 to 6). If it is a\n",
    "working day, then the program will write the name of the corresponding day. Otherwise,\n",
    "it will write the word \"Weekend\""
   ]
  },
  {
   "cell_type": "code",
   "execution_count": 60,
   "id": "9fe03bb1-dd44-4686-8be4-956efb315b6c",
   "metadata": {},
   "outputs": [
    {
     "name": "stdin",
     "output_type": "stream",
     "text": [
      "Enter the number of day, between (0-6):  6\n"
     ]
    },
    {
     "name": "stdout",
     "output_type": "stream",
     "text": [
      "It is Weekend\n"
     ]
    }
   ],
   "source": [
    "num = int(input(\"Enter the number of day, between (0-6): \"))\n",
    "if (num == 0) :\n",
    "    print(\"It is weekend\")\n",
    "elif (num == 1) :\n",
    "    print(\"It is Monday\")\n",
    "elif (num == 2) :\n",
    "    print(\"It is Tuesday\")\n",
    "elif (num == 3) :\n",
    "    print(\"It is Wednesday\")\n",
    "elif (num == 4) :\n",
    "    print(\"It is Thursday\")\n",
    "elif (num == 5) :\n",
    "    print(\"It is Friday\")\n",
    "else: (num == 6) \n",
    "print(\"It is Weekend\")"
   ]
  },
  {
   "cell_type": "code",
   "execution_count": null,
   "id": "f1709d43-5a5d-48f6-bd88-d772ccaa5c03",
   "metadata": {},
   "outputs": [],
   "source": []
  },
  {
   "cell_type": "markdown",
   "id": "18fb55b5-54f6-48c6-a1ad-c0dc23597d49",
   "metadata": {},
   "source": [
    "3. Make a program that, given a month number (from 0 to 11), indicates how many days it\n",
    "has (28, 30 or 31), ignoring the leap years."
   ]
  },
  {
   "cell_type": "code",
   "execution_count": 80,
   "id": "7203d46e-9072-4139-9414-ff3c72df1ad1",
   "metadata": {},
   "outputs": [
    {
     "name": "stdin",
     "output_type": "stream",
     "text": [
      "Enter a number of month between (0-11):  11\n"
     ]
    },
    {
     "name": "stdout",
     "output_type": "stream",
     "text": [
      "It is December and has 31 days\n"
     ]
    }
   ],
   "source": [
    "num = int(input(\"Enter a number of month between (0-11): \"))\n",
    "if (num == 0) : \n",
    "    print(\"It is January and has 31 days\")\n",
    "elif (num == 1) :\n",
    "    print(\"It is February and has 28 or 29 days\")\n",
    "elif (num == 2) :\n",
    "    print(\"It is March and has 31 days\")\n",
    "elif (num == 3) :\n",
    "    print(\"It is April and has 30 days\")\n",
    "elif (num == 4) : \n",
    "    print(\"It is May and has 31 days\")\n",
    "elif (num == 5) :\n",
    "    print(\"It is June and has 30 days\")\n",
    "elif (num == 6) :\n",
    "    print(\"It is July and has 31 days\")\n",
    "elif (num == 7) :\n",
    "    print(\"It is August and has 31 days\")\n",
    "elif (num == 8) :\n",
    "    print(\"It is September and has 30 days\")\n",
    "elif (num == 9) :\n",
    "    print(\"It is October and has 31 days\")\n",
    "elif (num == 10) :\n",
    "    print(\"It is November and has 30 days\")\n",
    "else: (num == 11)\n",
    "print(\"It is December and has 31 days\")"
   ]
  },
  {
   "cell_type": "code",
   "execution_count": null,
   "id": "fdd44880-5b27-4592-94fa-6b6f1f665c73",
   "metadata": {},
   "outputs": [],
   "source": []
  },
  {
   "cell_type": "markdown",
   "id": "44974051-141f-484c-88c8-4979875900f2",
   "metadata": {},
   "source": [
    "4. Write two versions of python code that displays your name 3 times. One version with a\n",
    "\"for loop\" and another version with a \"while loop\"."
   ]
  },
  {
   "cell_type": "code",
   "execution_count": 3,
   "id": "54724b83-92d6-48b3-b8e8-59e1229ba23e",
   "metadata": {},
   "outputs": [
    {
     "name": "stdout",
     "output_type": "stream",
     "text": [
      "Frederico Armando Machava\n",
      "Frederico Armando Machava\n",
      "Frederico Armando Machava\n"
     ]
    }
   ],
   "source": [
    "# With while loop\n",
    "x = \"Frederico Armando Machava\"\n",
    "x1 = 0 \n",
    "while (x1 < 3):\n",
    "    print(x)\n",
    "    x1 = x1 + 1"
   ]
  },
  {
   "cell_type": "code",
   "execution_count": 5,
   "id": "f5d5a940-ed8b-4942-ac84-ec749ee029f8",
   "metadata": {},
   "outputs": [
    {
     "name": "stdout",
     "output_type": "stream",
     "text": [
      "Frederico Armando Machava\n",
      "Frederico Armando Machava\n",
      "Frederico Armando Machava\n"
     ]
    }
   ],
   "source": [
    "# With for loop\n",
    "n = 3\n",
    "for i in range(n): \n",
    "    print(\"Frederico Armando Machava\")"
   ]
  },
  {
   "cell_type": "code",
   "execution_count": null,
   "id": "bd586eee-62cd-49eb-a91c-1c70374381a1",
   "metadata": {},
   "outputs": [],
   "source": []
  },
  {
   "cell_type": "markdown",
   "id": "5a58e67b-1779-40ec-935c-cf1783e8a3d6",
   "metadata": {},
   "source": [
    "5. Given two numbers a0 and a1, the Fibonacci sequence they generate is constructed from\n",
    "the recursion formula an+1 = an + an−1. Calculate the first 15 terms of a Fibonacci\n",
    "sequence, asking the user the initial values."
   ]
  },
  {
   "cell_type": "code",
   "execution_count": 33,
   "id": "0c5f0be1-7063-4584-8eec-969b5b7f7bf0",
   "metadata": {},
   "outputs": [
    {
     "name": "stdin",
     "output_type": "stream",
     "text": [
      "Enter first term 0\n",
      "Enter second term 1\n"
     ]
    },
    {
     "name": "stdout",
     "output_type": "stream",
     "text": [
      "1\n",
      "2\n",
      "3\n",
      "5\n",
      "8\n",
      "13\n",
      "21\n",
      "34\n",
      "55\n",
      "89\n",
      "144\n",
      "233\n",
      "377\n"
     ]
    }
   ],
   "source": [
    "a_n_1 = int(input(\"Enter first term\"))\n",
    "a_n = int(input(\"Enter second term\"))\n",
    "\n",
    "i = 3\n",
    "while (i <= 15):\n",
    "    f_n = a_n + a_n_1\n",
    "    print(f_n)\n",
    "    a_n_1 = a_n\n",
    "    a_n = f_n\n",
    "    i += 1"
   ]
  },
  {
   "cell_type": "code",
   "execution_count": null,
   "id": "84386754-f2e7-41b4-856a-74851267ce89",
   "metadata": {},
   "outputs": [],
   "source": []
  },
  {
   "cell_type": "markdown",
   "id": "6dcbf9a5-9f6e-4cc0-873c-7006d6193419",
   "metadata": {},
   "source": [
    "6.Compute the first 30 terms of the sequence defined by 2xn+2 − xn+1 − 6xn = 0 sequence,\n",
    "given any two initial values x0 and x1"
   ]
  },
  {
   "cell_type": "code",
   "execution_count": 56,
   "id": "c2434bef-c637-4e72-ae47-f8c615c86074",
   "metadata": {},
   "outputs": [
    {
     "name": "stdin",
     "output_type": "stream",
     "text": [
      "Enter initial value x0:  1\n",
      "Enter initial value x1:  2\n"
     ]
    },
    {
     "name": "stdout",
     "output_type": "stream",
     "text": [
      "x_0 = 1\n",
      "x_1 = 2\n",
      "x_2 = 4.0\n",
      "x_3 = 8.0\n",
      "x_4 = 16.0\n",
      "x_5 = 32.0\n",
      "x_6 = 64.0\n",
      "x_7 = 128.0\n",
      "x_8 = 256.0\n",
      "x_9 = 512.0\n",
      "x_10 = 1024.0\n",
      "x_11 = 2048.0\n",
      "x_12 = 4096.0\n",
      "x_13 = 8192.0\n",
      "x_14 = 16384.0\n",
      "x_15 = 32768.0\n",
      "x_16 = 65536.0\n",
      "x_17 = 131072.0\n",
      "x_18 = 262144.0\n",
      "x_19 = 524288.0\n",
      "x_20 = 1048576.0\n",
      "x_21 = 2097152.0\n",
      "x_22 = 4194304.0\n",
      "x_23 = 8388608.0\n",
      "x_24 = 16777216.0\n",
      "x_25 = 33554432.0\n",
      "x_26 = 67108864.0\n",
      "x_27 = 134217728.0\n",
      "x_28 = 268435456.0\n",
      "x_29 = 536870912.0\n"
     ]
    }
   ],
   "source": [
    "def compute_sequence(x0, x1, n=30):\n",
    "    \"\"\"Compute the sequence based on the given initial values.\"\"\"\n",
    "    terms = [x0, x1]\n",
    "    \n",
    "    for i in range(2, n):\n",
    "        \n",
    "        x_n = (terms[i-1] + 6 * terms[i-2]) / 2\n",
    "        terms.append(x_n)\n",
    "\n",
    "    return terms\n",
    "\n",
    "def main():\n",
    "    \n",
    "    x0 = int(input(\"Enter initial value x0: \"))\n",
    "    x1 = int(input(\"Enter initial value x1: \"))\n",
    "    \n",
    "    \n",
    "    terms = compute_sequence(x0, x1)\n",
    "    \n",
    "    \n",
    "    for i, term in enumerate(terms):\n",
    "        print(f\"x_{i} = {term}\")\n",
    "\n",
    "if __name__ == \"__main__\":\n",
    "    main()\n"
   ]
  },
  {
   "cell_type": "code",
   "execution_count": null,
   "id": "3dde21b7-2f18-43ef-90bc-58befe98b956",
   "metadata": {},
   "outputs": [],
   "source": []
  },
  {
   "cell_type": "markdown",
   "id": "70609207-c65b-498c-94c7-806438b7698a",
   "metadata": {},
   "source": [
    "7 a) Write python code to determine whether or not a year is a leap year. Be sure you\n",
    "know what a leap year is."
   ]
  },
  {
   "cell_type": "code",
   "execution_count": 46,
   "id": "2c3779f0-0e6f-414b-9d82-d3434906d4a6",
   "metadata": {},
   "outputs": [
    {
     "name": "stdin",
     "output_type": "stream",
     "text": [
      "Enter a year:  2020\n"
     ]
    },
    {
     "name": "stdout",
     "output_type": "stream",
     "text": [
      "2020 is a leap year.\n"
     ]
    }
   ],
   "source": [
    "def is_leap_year(year):\n",
    "    \"\"\"Determine if a given year is a leap year.\"\"\"\n",
    "    if (year % 4 == 0 and year % 100 != 0) or (year % 400 == 0):\n",
    "        return True\n",
    "    else:\n",
    "        return False\n",
    "\n",
    "def main():\n",
    "   \n",
    "    year = int(input(\"Enter a year: \"))\n",
    "    \n",
    "  \n",
    "    if is_leap_year(year):\n",
    "        print(f\"{year} is a leap year.\")\n",
    "    else:\n",
    "        print(f\"{year} is not a leap year.\")\n",
    "\n",
    "if __name__ == \"__main__\":\n",
    "    main()\n"
   ]
  },
  {
   "cell_type": "code",
   "execution_count": null,
   "id": "4c30f61c-c733-45c8-9c61-24f63c9a4a48",
   "metadata": {},
   "outputs": [],
   "source": []
  },
  {
   "cell_type": "markdown",
   "id": "57ada0e4-f5cb-4e5e-9005-86530aa36360",
   "metadata": {},
   "source": [
    "7 b) Write the code using only logical operators, i.e. no conditional branching."
   ]
  },
  {
   "cell_type": "code",
   "execution_count": 52,
   "id": "d4835e52-9cd9-4d8a-9d89-a5c0669f1ae5",
   "metadata": {},
   "outputs": [
    {
     "name": "stdin",
     "output_type": "stream",
     "text": [
      "Enter a year:  2023\n"
     ]
    },
    {
     "name": "stdout",
     "output_type": "stream",
     "text": [
      "2023 is not a leap year.\n"
     ]
    }
   ],
   "source": [
    "def is_leap_year(year):\n",
    "    \"\"\"Determine if a given year is a leap year using logical operators.\"\"\"\n",
    "    return (year % 4 == 0 and year % 100 != 0) or (year % 400 == 0)\n",
    "\n",
    "def main():\n",
    "    \n",
    "    year = int(input(\"Enter a year: \"))\n",
    "    \n",
    "   \n",
    "    print(f\"{year} is a leap year.\" * is_leap_year(year) or f\"{year} is not a leap year.\")\n",
    "\n",
    "if __name__ == \"__main__\":\n",
    "    main()\n"
   ]
  },
  {
   "cell_type": "code",
   "execution_count": null,
   "id": "58fdfe96-7941-4e50-8cc3-35eacb22a36c",
   "metadata": {},
   "outputs": [],
   "source": []
  },
  {
   "cell_type": "code",
   "execution_count": null,
   "id": "582800e2-73b4-4acc-a294-ebcb470a2284",
   "metadata": {},
   "outputs": [],
   "source": []
  },
  {
   "cell_type": "code",
   "execution_count": null,
   "id": "94a6f85c-8a55-4d3b-9b0b-324de522e0bd",
   "metadata": {},
   "outputs": [],
   "source": []
  }
 ],
 "metadata": {
  "kernelspec": {
   "display_name": "Python 3 (ipykernel)",
   "language": "python",
   "name": "python3"
  },
  "language_info": {
   "codemirror_mode": {
    "name": "ipython",
    "version": 3
   },
   "file_extension": ".py",
   "mimetype": "text/x-python",
   "name": "python",
   "nbconvert_exporter": "python",
   "pygments_lexer": "ipython3",
   "version": "3.12.4"
  }
 },
 "nbformat": 4,
 "nbformat_minor": 5
}
