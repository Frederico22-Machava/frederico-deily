{
 "cells": [
  {
   "cell_type": "markdown",
   "id": "0552585b-9b63-4524-b70b-b76c892a0d22",
   "metadata": {},
   "source": [
    "Frederico Armando Machava"
   ]
  },
  {
   "cell_type": "markdown",
   "id": "946dcae8",
   "metadata": {},
   "source": [
    "# Practical_6: Numpy"
   ]
  },
  {
   "cell_type": "markdown",
   "id": "c55d3a71-e7f5-4f90-875f-2e1a40ce8d2f",
   "metadata": {},
   "source": [
    "### Exercise 1:\n",
    "Create a NumPy array of integers from 1 to 10."
   ]
  },
  {
   "cell_type": "code",
   "execution_count": 50,
   "id": "9fd3030f-37d1-4843-8bca-d9d99fe3a87d",
   "metadata": {},
   "outputs": [
    {
     "name": "stdout",
     "output_type": "stream",
     "text": [
      "[ 1  2  3  4  5  6  7  8  9 10]\n"
     ]
    }
   ],
   "source": [
    "import numpy as np\n",
    "a = np.arange(1,11)\n",
    "print(a)"
   ]
  },
  {
   "cell_type": "code",
   "execution_count": null,
   "id": "3afff4cb-6caa-4740-8604-577bf7a12a49",
   "metadata": {},
   "outputs": [],
   "source": []
  },
  {
   "cell_type": "markdown",
   "id": "01ac3271-4307-4e46-afb1-026b7e16c61d",
   "metadata": {},
   "source": [
    "### Exercise 2:\n",
    "Create a 3x3 NumPy array filled with zeros."
   ]
  },
  {
   "cell_type": "code",
   "execution_count": 64,
   "id": "126d060f-e18e-4b36-b6a6-fb4da1535821",
   "metadata": {},
   "outputs": [
    {
     "name": "stdout",
     "output_type": "stream",
     "text": [
      "[[0 0 0]\n",
      " [0 0 0]\n",
      " [0 0 0]]\n"
     ]
    }
   ],
   "source": [
    "a = np.array([[0,0,0], [0,0,0], [0,0,0]])\n",
    "print(a)"
   ]
  },
  {
   "cell_type": "code",
   "execution_count": null,
   "id": "87e46d4d-abb5-4af9-9db8-306fd2128587",
   "metadata": {},
   "outputs": [],
   "source": []
  },
  {
   "cell_type": "markdown",
   "id": "b78ef8ad-72ce-4492-9697-6eaafd855016",
   "metadata": {},
   "source": [
    "### Exercise 3:\n",
    "Create a NumPy array of 10 evenly spaced numbers between 0 and 5."
   ]
  },
  {
   "cell_type": "code",
   "execution_count": 84,
   "id": "96036678-e2bf-485a-8f33-afa19e363cac",
   "metadata": {},
   "outputs": [
    {
     "name": "stdout",
     "output_type": "stream",
     "text": [
      "[0.         0.55555556 1.11111111 1.66666667 2.22222222 2.77777778\n",
      " 3.33333333 3.88888889 4.44444444 5.        ]\n"
     ]
    }
   ],
   "source": [
    "import numpy as np\n",
    "a = np.linspace(0, 5, 10)\n",
    "print(a)"
   ]
  },
  {
   "cell_type": "code",
   "execution_count": null,
   "id": "b90e8394-d088-4faf-8c45-a35a4792ad18",
   "metadata": {},
   "outputs": [],
   "source": []
  },
  {
   "cell_type": "markdown",
   "id": "f24b36aa-2f34-4852-848a-376b5afc7b3e",
   "metadata": {},
   "source": [
    "### Exercise 4:\n",
    "Create a 5x5 identity matrix using NumPy."
   ]
  },
  {
   "cell_type": "code",
   "execution_count": 88,
   "id": "802a8f64-2757-4d21-a873-09480394b258",
   "metadata": {},
   "outputs": [
    {
     "name": "stdout",
     "output_type": "stream",
     "text": [
      "[[1. 0. 0. 0. 0.]\n",
      " [0. 1. 0. 0. 0.]\n",
      " [0. 0. 1. 0. 0.]\n",
      " [0. 0. 0. 1. 0.]\n",
      " [0. 0. 0. 0. 1.]]\n"
     ]
    }
   ],
   "source": [
    "d = np.eye(5)         \n",
    "print(d)  "
   ]
  },
  {
   "cell_type": "code",
   "execution_count": null,
   "id": "904cd173-c164-48ad-823b-44800e6d6f5a",
   "metadata": {},
   "outputs": [],
   "source": []
  },
  {
   "cell_type": "markdown",
   "id": "5183a82e-4d57-490f-b7e8-06967abd7e2a",
   "metadata": {},
   "source": [
    "### Exercise 5:\n",
    "Create a 4x4 matrix with random values between 0 and 1."
   ]
  },
  {
   "cell_type": "code",
   "execution_count": 96,
   "id": "05ef7888-8853-435c-a075-1db0514c7a49",
   "metadata": {},
   "outputs": [
    {
     "name": "stdout",
     "output_type": "stream",
     "text": [
      "[[0.971945   0.87819347 0.50962438 0.05571469]\n",
      " [0.45115921 0.01998767 0.44171092 0.97958673]\n",
      " [0.35944446 0.48089353 0.68866118 0.88047589]\n",
      " [0.91823547 0.21682214 0.56518887 0.86510256]]\n"
     ]
    }
   ],
   "source": [
    "f = np.random.random((4,4)) \n",
    "print(f) "
   ]
  },
  {
   "cell_type": "code",
   "execution_count": null,
   "id": "11029618-a7fc-4911-99a7-e63e778c8d2f",
   "metadata": {},
   "outputs": [],
   "source": []
  },
  {
   "cell_type": "markdown",
   "id": "90017fdf-f58e-42bf-897e-f78ce1f4081f",
   "metadata": {},
   "source": [
    "### Exercise 6:\n",
    "Find the shape of a NumPy array."
   ]
  },
  {
   "cell_type": "code",
   "execution_count": 105,
   "id": "8151e5ce-80d7-4d47-8b67-de12d26d35bf",
   "metadata": {},
   "outputs": [
    {
     "name": "stdout",
     "output_type": "stream",
     "text": [
      "<function shape at 0x000002BA41785580>\n"
     ]
    }
   ],
   "source": [
    "import numpy as np\n",
    "print(np.shape)"
   ]
  },
  {
   "cell_type": "code",
   "execution_count": null,
   "id": "fc485b80-0436-4167-bcfd-ca682bfe8052",
   "metadata": {},
   "outputs": [],
   "source": []
  },
  {
   "cell_type": "markdown",
   "id": "b03d379e-8f3e-49a1-9ca2-27dfdbc9adde",
   "metadata": {},
   "source": [
    "### Exercise 7:\n",
    "Reshape a 1D NumPy array of 16 elements into a 4x4 matrix."
   ]
  },
  {
   "cell_type": "code",
   "execution_count": 110,
   "id": "94b7a634-cdb4-4dc1-8c3a-8aa60a27e9be",
   "metadata": {},
   "outputs": [
    {
     "name": "stdout",
     "output_type": "stream",
     "text": [
      "[[ 1  2  3  4]\n",
      " [ 5  6  7  8]\n",
      " [ 9 10 11 12]\n",
      " [13 14 15 16]]\n"
     ]
    }
   ],
   "source": [
    "a = np.arange(1, 17).reshape((4, 4))\n",
    "print(a)"
   ]
  },
  {
   "cell_type": "code",
   "execution_count": null,
   "id": "ac3c04e4-9062-41ae-a433-7acbb0499d3c",
   "metadata": {},
   "outputs": [],
   "source": []
  },
  {
   "cell_type": "markdown",
   "id": "086c9eed-9cdf-43ab-b179-9e0bb2b61c18",
   "metadata": {},
   "source": [
    "### Exercise 8:\n",
    "Find the data type of the elements in a NumPy array."
   ]
  },
  {
   "cell_type": "code",
   "execution_count": 112,
   "id": "fcfb740f-b890-4d33-859c-7062b40ef705",
   "metadata": {},
   "outputs": [
    {
     "name": "stdout",
     "output_type": "stream",
     "text": [
      "<class 'numpy.dtype'>\n"
     ]
    }
   ],
   "source": [
    "import numpy as np\n",
    "print(np.dtype)"
   ]
  },
  {
   "cell_type": "code",
   "execution_count": null,
   "id": "09db1cd9-9517-4505-bb27-ab336ca46683",
   "metadata": {},
   "outputs": [],
   "source": []
  },
  {
   "cell_type": "markdown",
   "id": "ab55e604-ad47-4f2a-b008-23f9e2fd142b",
   "metadata": {},
   "source": [
    "### Exercise 9:\n",
    "Create a NumPy array of integers from 1 to 100 and find all even numbers in the array."
   ]
  },
  {
   "cell_type": "code",
   "execution_count": 129,
   "id": "6bdc7ff7-8393-4243-a634-67a062a9ad7f",
   "metadata": {},
   "outputs": [
    {
     "name": "stdout",
     "output_type": "stream",
     "text": [
      "[  2   4   6   8  10  12  14  16  18  20  22  24  26  28  30  32  34  36\n",
      "  38  40  42  44  46  48  50  52  54  56  58  60  62  64  66  68  70  72\n",
      "  74  76  78  80  82  84  86  88  90  92  94  96  98 100]\n"
     ]
    }
   ],
   "source": [
    "import numpy as np\n",
    "a = np.arange(1, 101)\n",
    "b = a[a % 2 == 0]\n",
    "print(b)"
   ]
  },
  {
   "cell_type": "code",
   "execution_count": null,
   "id": "ed69a0fe-f48f-4a36-9dcf-8f2ccfae4b24",
   "metadata": {},
   "outputs": [],
   "source": []
  },
  {
   "cell_type": "markdown",
   "id": "5c6ffe9a-6b60-40fe-aa33-d8b25850ae37",
   "metadata": {},
   "source": [
    "### Exercise 10:\n",
    "Generate a 6x6 matrix of random integers between 10 and 50."
   ]
  },
  {
   "cell_type": "code",
   "execution_count": 165,
   "id": "0fb5576f-2aa1-4a86-87a4-6ff4add7c2d9",
   "metadata": {},
   "outputs": [
    {
     "data": {
      "text/plain": [
       "array([[37, 24, 11, 46, 20, 32],\n",
       "       [21, 12, 26, 42, 10, 48],\n",
       "       [29, 23, 40, 34, 12, 13],\n",
       "       [40, 44, 23, 18, 29, 41],\n",
       "       [18, 36, 12, 13, 24, 42],\n",
       "       [14, 13, 21, 32, 23, 21]])"
      ]
     },
     "execution_count": 165,
     "metadata": {},
     "output_type": "execute_result"
    }
   ],
   "source": [
    "import numpy as np\n",
    "np.random.randint(10, 50, size=(6,6))\n",
    "# a = np.(10, 51)\n",
    "# .reshape((6, 6))\n",
    "# random.random((6, 6))\n",
    "# b = a[a % 2 == 0]\n",
    "# c = a.random.random((10, 51))\n",
    "# print(len(a))"
   ]
  },
  {
   "cell_type": "code",
   "execution_count": null,
   "id": "bbb95764-6bc6-4232-946a-d5730de368db",
   "metadata": {},
   "outputs": [],
   "source": []
  },
  {
   "cell_type": "markdown",
   "id": "14bba89c-fd9d-4db9-acaa-8b87cbfab4b3",
   "metadata": {},
   "source": [
    "### Exercise 11:\n",
    "Slice a 2D NumPy array to extract a submatrix."
   ]
  },
  {
   "cell_type": "code",
   "execution_count": 172,
   "id": "be267b4e-81df-4dda-beb0-38786317f7a0",
   "metadata": {},
   "outputs": [
    {
     "name": "stdout",
     "output_type": "stream",
     "text": [
      "[]\n"
     ]
    }
   ],
   "source": [
    "a = np.arange(2)\n",
    "b = a[:0]\n",
    "print(b)"
   ]
  },
  {
   "cell_type": "code",
   "execution_count": null,
   "id": "bc936384-68f5-4ca3-92dd-7ca5c1660dd0",
   "metadata": {},
   "outputs": [],
   "source": []
  },
  {
   "cell_type": "markdown",
   "id": "216c405a-f6ac-418c-8807-f99ff7a5d12d",
   "metadata": {},
   "source": [
    "### Exercise 12:\n",
    "Calculate the sum of all elements in a NumPy array."
   ]
  },
  {
   "cell_type": "code",
   "execution_count": 180,
   "id": "26f67bcf-d19b-4c9f-ba72-3fbf8ad943e5",
   "metadata": {},
   "outputs": [
    {
     "name": "stdout",
     "output_type": "stream",
     "text": [
      "0\n"
     ]
    }
   ],
   "source": [
    "x = np.array(0)\n",
    "y = np.array(0)\n",
    "\n",
    "print(np.add(x, y))"
   ]
  },
  {
   "cell_type": "code",
   "execution_count": null,
   "id": "6c72cf08-1f0c-429a-9e84-74e4e982222f",
   "metadata": {},
   "outputs": [],
   "source": []
  },
  {
   "cell_type": "markdown",
   "id": "0d83891c-929d-44c6-ba40-3478bc3c1488",
   "metadata": {},
   "source": [
    "### Exercise 13:\n",
    "Calculate the mean, median, and standard deviation of a NumPy array."
   ]
  },
  {
   "cell_type": "code",
   "execution_count": 208,
   "id": "78904e4f-bcea-48c9-ae9b-849f62b10403",
   "metadata": {},
   "outputs": [
    {
     "name": "stdout",
     "output_type": "stream",
     "text": [
      "3.0\n",
      "3.0\n",
      "1.4142135623730951\n"
     ]
    }
   ],
   "source": [
    "x = np.arange(1, 6)\n",
    "y = np.mean(x)\n",
    "z = np.median(x)\n",
    "h = np.std(x)\n",
    "print(y) \n",
    "print(z)     \n",
    "print(h)     "
   ]
  },
  {
   "cell_type": "code",
   "execution_count": null,
   "id": "25b722e2-b281-4e57-9f8f-25f824cf592d",
   "metadata": {},
   "outputs": [],
   "source": []
  },
  {
   "cell_type": "markdown",
   "id": "5932de88-ef08-4bda-93ee-51f789716971",
   "metadata": {},
   "source": [
    "### Exercise 14:\n",
    "Find the maximum and minimum values in a NumPy array."
   ]
  },
  {
   "cell_type": "code",
   "execution_count": 211,
   "id": "f7f72a25-6bde-44c1-ad6a-9e4a24ea2a18",
   "metadata": {},
   "outputs": [
    {
     "name": "stdout",
     "output_type": "stream",
     "text": [
      "6\n",
      "4\n"
     ]
    }
   ],
   "source": [
    "t = np.array([4, 5, 6])\n",
    "x = np.max(t)\n",
    "y = np.min(t)\n",
    "print(x)\n",
    "print(y)"
   ]
  },
  {
   "cell_type": "code",
   "execution_count": null,
   "id": "5264bf6f-d017-43e5-bb84-e9c36366374d",
   "metadata": {},
   "outputs": [],
   "source": []
  },
  {
   "cell_type": "markdown",
   "id": "00d24314-79f6-4303-8341-2c9c602c66db",
   "metadata": {},
   "source": [
    "### Exercise 15:\n",
    "Create a NumPy array of 20 random integers and find the index of the maximum value."
   ]
  },
  {
   "cell_type": "code",
   "execution_count": 224,
   "id": "00968f30-172a-4067-a144-c1c80597b694",
   "metadata": {},
   "outputs": [
    {
     "name": "stdout",
     "output_type": "stream",
     "text": [
      "3\n"
     ]
    }
   ],
   "source": [
    "x = np.random.randint(-10, 10, size=(20,))\n",
    "print(x)\n",
    "y = np.argmax(x)\n",
    "print(y)"
   ]
  },
  {
   "cell_type": "code",
   "execution_count": null,
   "id": "ad815694-bac2-412d-8241-605d71884635",
   "metadata": {},
   "outputs": [],
   "source": []
  },
  {
   "cell_type": "markdown",
   "id": "82062fd6-2f7a-4ec2-853b-8c6114222a00",
   "metadata": {},
   "source": [
    "### Exercise 16:\n",
    "Create a NumPy array and reverse its elements."
   ]
  },
  {
   "cell_type": "code",
   "execution_count": 226,
   "id": "522acc70-ac10-4ca9-9b5f-516cf20a576f",
   "metadata": {},
   "outputs": [
    {
     "name": "stdout",
     "output_type": "stream",
     "text": [
      "[6 5 4]\n"
     ]
    }
   ],
   "source": [
    "t = np.array([4, 5, 6])\n",
    "x = np.flip(t)\n",
    "print(x)"
   ]
  },
  {
   "cell_type": "code",
   "execution_count": null,
   "id": "b9871d51-d385-4141-93d6-c361cd023b34",
   "metadata": {},
   "outputs": [],
   "source": []
  },
  {
   "cell_type": "markdown",
   "id": "330f6c9e-8bb4-4087-9972-b1ea69a1859a",
   "metadata": {},
   "source": [
    "### Exercise 17:\n",
    "Create a 3x3 matrix and multiply it element-wise by another 3x3 matrix."
   ]
  },
  {
   "cell_type": "code",
   "execution_count": 232,
   "id": "adaf17a2-6cfc-4eb2-a1e6-9652935905a1",
   "metadata": {},
   "outputs": [
    {
     "name": "stdout",
     "output_type": "stream",
     "text": [
      "[[  3   4   3]\n",
      " [ 35  36  35]\n",
      " [ 99 100 132]]\n"
     ]
    }
   ],
   "source": [
    "a = np.array([[1,2,3], [5,6,7], [9,10,11]])\n",
    "b = np.array([[3,2,1], [7,6,5], [11,10,12]])\n",
    "print(a*b)"
   ]
  },
  {
   "cell_type": "code",
   "execution_count": null,
   "id": "1b388e14-d25a-473b-aa35-dedabd4b447c",
   "metadata": {},
   "outputs": [],
   "source": []
  },
  {
   "cell_type": "markdown",
   "id": "346638ff-7969-4f52-afa6-4ef503499bbd",
   "metadata": {},
   "source": [
    "### Exercise 18:\n",
    "Create a diagonal matrix from a given 1D array."
   ]
  },
  {
   "cell_type": "code",
   "execution_count": 234,
   "id": "9b9a26e1-6e83-4ae6-bbad-b53e25e56e3d",
   "metadata": {},
   "outputs": [
    {
     "name": "stdout",
     "output_type": "stream",
     "text": [
      "[[4 0 0]\n",
      " [0 5 0]\n",
      " [0 0 6]]\n"
     ]
    }
   ],
   "source": [
    "t = np.array([4, 5, 6])\n",
    "x = np.diag(t)\n",
    "print(x)"
   ]
  },
  {
   "cell_type": "code",
   "execution_count": null,
   "id": "515245e0-b058-4bcc-bb02-2c86663fd9ec",
   "metadata": {},
   "outputs": [],
   "source": []
  },
  {
   "cell_type": "markdown",
   "id": "4af20cb1-4db1-448f-95f5-764a7f60337c",
   "metadata": {},
   "source": [
    "### Exercise 19:\n",
    "Perform matrix multiplication on two 2D NumPy arrays."
   ]
  },
  {
   "cell_type": "code",
   "execution_count": 236,
   "id": "aefce907-11f0-4879-9675-4ddca41e5267",
   "metadata": {},
   "outputs": [
    {
     "name": "stdout",
     "output_type": "stream",
     "text": [
      "[[ 3  4  3]\n",
      " [35 36 35]]\n"
     ]
    }
   ],
   "source": [
    "a = np.array([[1,2,3], [5,6,7]])\n",
    "b = np.array([[3,2,1], [7,6,5]])\n",
    "print(a*b)"
   ]
  },
  {
   "cell_type": "code",
   "execution_count": null,
   "id": "4c29c56f-5ee9-422e-a95e-98414587b4ca",
   "metadata": {},
   "outputs": [],
   "source": []
  },
  {
   "cell_type": "markdown",
   "id": "f392bbd1-873a-40dc-9d12-50fb589cc7ea",
   "metadata": {},
   "source": [
    "### Exercise 20:\n",
    "Flatten a 2D NumPy array into a 1D array."
   ]
  },
  {
   "cell_type": "code",
   "execution_count": 240,
   "id": "26d34d52-3e79-4ac6-b9c8-91b663bcd76b",
   "metadata": {},
   "outputs": [
    {
     "name": "stdout",
     "output_type": "stream",
     "text": [
      "[1 2 3 5 6 7]\n"
     ]
    }
   ],
   "source": [
    "a = np.array([[1,2,3], [5,6,7]])\n",
    "x = a.flatten()\n",
    "print(x)"
   ]
  },
  {
   "cell_type": "code",
   "execution_count": null,
   "id": "8cf837fd-bdde-4429-a19a-29adda652c37",
   "metadata": {},
   "outputs": [],
   "source": []
  },
  {
   "cell_type": "markdown",
   "id": "9d82741d-401e-4422-a5da-cd56d0fe0655",
   "metadata": {},
   "source": [
    "### Exercise 21:\n",
    "Stack two NumPy arrays vertically."
   ]
  },
  {
   "cell_type": "code",
   "execution_count": 246,
   "id": "b499c8e4-3c52-405e-92d0-b01f59df16a3",
   "metadata": {},
   "outputs": [
    {
     "name": "stdout",
     "output_type": "stream",
     "text": [
      "[[1 2 3]\n",
      " [3 2 1]]\n"
     ]
    }
   ],
   "source": [
    "a = np.array([1,2,3])\n",
    "b = np.array([3,2,1])\n",
    "x = np.vstack((a,b))\n",
    "print(x)"
   ]
  },
  {
   "cell_type": "code",
   "execution_count": null,
   "id": "f09b0ade-c52f-49fe-b904-90408301d9df",
   "metadata": {},
   "outputs": [],
   "source": []
  },
  {
   "cell_type": "markdown",
   "id": "c1211d3d-14d5-4285-acba-f0b576e059ba",
   "metadata": {},
   "source": [
    "### Exercise 22:\n",
    "Stack two NumPy arrays horizontally."
   ]
  },
  {
   "cell_type": "code",
   "execution_count": 248,
   "id": "c8510329-08c6-40fa-a3b3-5b30d1e4f2bc",
   "metadata": {},
   "outputs": [
    {
     "name": "stdout",
     "output_type": "stream",
     "text": [
      "[1 2 3 3 2 1]\n"
     ]
    }
   ],
   "source": [
    "a = np.array([1,2,3])\n",
    "b = np.array([3,2,1])\n",
    "x = np.hstack((a,b))\n",
    "print(x)"
   ]
  },
  {
   "cell_type": "code",
   "execution_count": null,
   "id": "a984b01b-98aa-4747-91ac-1a0bb59b6310",
   "metadata": {},
   "outputs": [],
   "source": []
  },
  {
   "cell_type": "markdown",
   "id": "888120b4-cfb5-4311-b94a-fecaaadee66d",
   "metadata": {},
   "source": [
    "### Exercise 23:\n",
    "Split a NumPy array into multiple sub-arrays."
   ]
  },
  {
   "cell_type": "code",
   "execution_count": 264,
   "id": "b8fd93d5-b038-4a4b-9f50-3b94e35856f9",
   "metadata": {},
   "outputs": [
    {
     "name": "stdout",
     "output_type": "stream",
     "text": [
      "[array([1]), array([2]), array([3]), array([4]), array([5]), array([6])]\n"
     ]
    }
   ],
   "source": [
    "x = np.array([1,2,3,4,5,6])\n",
    "y = np.split(x, 6, axis=0)\n",
    "print(y)"
   ]
  },
  {
   "cell_type": "code",
   "execution_count": null,
   "id": "ec48b437-7cf4-422a-9631-d3969e3f67c5",
   "metadata": {},
   "outputs": [],
   "source": []
  },
  {
   "cell_type": "markdown",
   "id": "f1112df6-6353-4075-b328-dea26dcc6b06",
   "metadata": {},
   "source": [
    "### Exercise 24:\n",
    "Generate a random NumPy array and round each element to two decimal places."
   ]
  },
  {
   "cell_type": "code",
   "execution_count": 270,
   "id": "21fac477-5e85-4912-8f3d-56c0433d6d20",
   "metadata": {},
   "outputs": [
    {
     "name": "stdout",
     "output_type": "stream",
     "text": [
      "[[0.48805628 0.35561274 0.94043195 0.76532525]\n",
      " [0.74866362 0.90371974 0.08342244 0.55219247]\n",
      " [0.58447607 0.96193638 0.29214753 0.24082878]\n",
      " [0.10029394 0.01642963 0.92952932 0.66991655]]\n",
      "[[0.49 0.36 0.94 0.77]\n",
      " [0.75 0.9  0.08 0.55]\n",
      " [0.58 0.96 0.29 0.24]\n",
      " [0.1  0.02 0.93 0.67]]\n"
     ]
    }
   ],
   "source": [
    "f = np.random.random((4,4)) \n",
    "print(f) \n",
    "g = np.round(f, 2)\n",
    "print(g)"
   ]
  },
  {
   "cell_type": "code",
   "execution_count": null,
   "id": "56b41178-89c4-43e8-9ccc-37ba2ec19d1a",
   "metadata": {},
   "outputs": [],
   "source": []
  },
  {
   "cell_type": "markdown",
   "id": "84d81965-e2a4-48de-adf8-67f772256063",
   "metadata": {},
   "source": [
    "### Exercise 25:\n",
    "Find the unique elements of a NumPy array."
   ]
  },
  {
   "cell_type": "code",
   "execution_count": 274,
   "id": "5f5156ed-10db-4670-bd43-57b3aad4181c",
   "metadata": {},
   "outputs": [
    {
     "name": "stdout",
     "output_type": "stream",
     "text": [
      "[1 2 3 4 5 6]\n"
     ]
    }
   ],
   "source": [
    "x = np.array([1,2,2,3,5,3,4,5,6])\n",
    "y = np.unique(x)\n",
    "print(y)"
   ]
  },
  {
   "cell_type": "code",
   "execution_count": null,
   "id": "aa643e63-ab80-43ec-b26c-1e5e273bfd74",
   "metadata": {},
   "outputs": [],
   "source": []
  },
  {
   "cell_type": "markdown",
   "id": "a3f47eef-5767-4d10-8b96-9f6010b07bf9",
   "metadata": {},
   "source": [
    "### Exercise 26:\n",
    "Replace all elements in a NumPy array that are less than a specific value with that value."
   ]
  },
  {
   "cell_type": "code",
   "execution_count": 278,
   "id": "1cf95601-a460-45ae-b260-6589f324eb62",
   "metadata": {},
   "outputs": [
    {
     "name": "stdout",
     "output_type": "stream",
     "text": [
      "[5 5 5 5 5 5 5 5 6]\n"
     ]
    }
   ],
   "source": [
    "x = np.array([1,2,2,3,5,3,4,5,6])\n",
    "y = np.where(x<5, 5,x)\n",
    "print(y)"
   ]
  },
  {
   "cell_type": "code",
   "execution_count": null,
   "id": "6b08e8c9-dda2-4519-a9b1-73ee73357c9b",
   "metadata": {},
   "outputs": [],
   "source": []
  },
  {
   "cell_type": "markdown",
   "id": "3c4c5008-f38d-400e-ab8e-450f0640b6a7",
   "metadata": {},
   "source": [
    "### Exercise 27:\n",
    "Find the cumulative sum of the elements in a NumPy array."
   ]
  },
  {
   "cell_type": "code",
   "execution_count": 282,
   "id": "47c256ed-658e-46bf-a916-b6909df3a714",
   "metadata": {},
   "outputs": [
    {
     "name": "stdout",
     "output_type": "stream",
     "text": [
      "[ 1  3  6 10]\n"
     ]
    }
   ],
   "source": [
    "import numpy as np\n",
    "\n",
    "x = np.array([[1,2],[3,4]])\n",
    "\n",
    "print(np.cumsum(x)) "
   ]
  },
  {
   "cell_type": "code",
   "execution_count": null,
   "id": "90e87c77-eeb7-4997-8c93-a696dc140fec",
   "metadata": {},
   "outputs": [],
   "source": []
  },
  {
   "cell_type": "markdown",
   "id": "b1822635-53eb-4167-b9aa-844a5d0a100f",
   "metadata": {},
   "source": [
    "### Exercise 28:\n",
    "Create a NumPy array and find the number of non-zero elements in it."
   ]
  },
  {
   "cell_type": "code",
   "execution_count": 286,
   "id": "cb86bfde-ba01-4a8d-bc89-4274463795e4",
   "metadata": {},
   "outputs": [
    {
     "name": "stdout",
     "output_type": "stream",
     "text": [
      "[1 0 2 0 3 4 0 5]\n",
      "Number of non-zero elements: 5\n"
     ]
    }
   ],
   "source": [
    "import numpy as np\n",
    "\n",
    "\n",
    "y = np.array([1, 0, 2, 0, 3, 4, 0, 5])\n",
    "\n",
    "\n",
    "non_zero_count = np.count_nonzero(y)\n",
    "\n",
    "\n",
    "print(y)\n",
    "print(f\"Number of non-zero elements: {non_zero_count}\")\n",
    "\n"
   ]
  },
  {
   "cell_type": "code",
   "execution_count": null,
   "id": "c5b52782-13a5-4bb3-b44d-d5eeba39938b",
   "metadata": {},
   "outputs": [],
   "source": []
  },
  {
   "cell_type": "markdown",
   "id": "65f0d716-ccc0-47da-965f-ad2d65f28d25",
   "metadata": {},
   "source": [
    "### Exercise 29:\n",
    "Create a NumPy array of random integers and sort it in ascending order."
   ]
  },
  {
   "cell_type": "code",
   "execution_count": 290,
   "id": "0781767c-5da2-426e-886e-4b771db0931d",
   "metadata": {},
   "outputs": [
    {
     "name": "stdout",
     "output_type": "stream",
     "text": [
      "[-8 -6  0  1  2  3  4  7 10 11 35]\n"
     ]
    }
   ],
   "source": [
    "x = np.array([1,2,10,7,35,3,4,0,-6,11,-8])\n",
    "y = np.sort(x)\n",
    "print(y)"
   ]
  },
  {
   "cell_type": "code",
   "execution_count": null,
   "id": "221497e6-3afb-4f4e-b661-294a8a449338",
   "metadata": {},
   "outputs": [],
   "source": []
  },
  {
   "cell_type": "markdown",
   "id": "e8f1f895-d7c8-4c4a-ad3e-e326f368a948",
   "metadata": {},
   "source": [
    "### Exercise 30:\n",
    "Find the row-wise and column-wise sum of a 3x3 matrix."
   ]
  },
  {
   "cell_type": "code",
   "execution_count": 298,
   "id": "691d8930-94bd-4c9b-ba0f-88aae370782e",
   "metadata": {},
   "outputs": [
    {
     "name": "stdout",
     "output_type": "stream",
     "text": [
      "[ 6 18 30]\n",
      "[15 18 21]\n"
     ]
    }
   ],
   "source": [
    "a = np.array([[1,2,3], [5,6,7], [9,10,11]])\n",
    "row_wise = np.sum(a, axis=1)\n",
    "print(row_wise)\n",
    "column_wise = np.sum(a, axis=0)\n",
    "print(column_wise)"
   ]
  },
  {
   "cell_type": "code",
   "execution_count": null,
   "id": "be8806ca-6599-4ed0-846c-d1000f830ccb",
   "metadata": {},
   "outputs": [],
   "source": []
  },
  {
   "cell_type": "markdown",
   "id": "412f98d0-f94f-4680-b3e4-aeb3ddb9428e",
   "metadata": {},
   "source": [
    "### Exercise 31:\n",
    "Generate a 2D NumPy array with random values and normalize it (scale the values between 0 and 1)."
   ]
  },
  {
   "cell_type": "code",
   "execution_count": 302,
   "id": "86c2ddd2-0f34-420c-bc05-2b222bcfda7d",
   "metadata": {},
   "outputs": [
    {
     "name": "stdout",
     "output_type": "stream",
     "text": [
      "[[0.  0.2 0.4]\n",
      " [0.6 0.8 1. ]]\n"
     ]
    }
   ],
   "source": [
    "a = np.array([[1,2,3], [4,5,6]])\n",
    "a_min = np.min(a)\n",
    "a_max = np.max(a)\n",
    "a_ram = (a-a_min)/(a_max-a_min)\n",
    "print(a_ram)\n"
   ]
  },
  {
   "cell_type": "code",
   "execution_count": null,
   "id": "d898ca7b-3c25-4947-ac26-ec35db4a8dbe",
   "metadata": {},
   "outputs": [],
   "source": []
  },
  {
   "cell_type": "markdown",
   "id": "92fc0a31-28a2-48f9-ae3b-fbf8b3d72bff",
   "metadata": {},
   "source": [
    "### Exercise 32:\n",
    "Create two NumPy arrays and find the dot product."
   ]
  },
  {
   "cell_type": "code",
   "execution_count": 308,
   "id": "d369df82-484a-476e-bcf2-b5eb39a71f62",
   "metadata": {},
   "outputs": [
    {
     "name": "stdout",
     "output_type": "stream",
     "text": [
      "32\n"
     ]
    }
   ],
   "source": [
    "a = np.array([1,2,3])\n",
    "b = np.array([4,5,6])\n",
    "print(np.dot(a, b))"
   ]
  },
  {
   "cell_type": "code",
   "execution_count": 316,
   "id": "7b4c0d3f-c4a6-4a2f-b1e4-67a6e6433c1b",
   "metadata": {},
   "outputs": [
    {
     "name": "stdout",
     "output_type": "stream",
     "text": [
      "[[8 5]\n",
      " [4 0]]\n"
     ]
    }
   ],
   "source": [
    "a = np.array([[1,2], [0,2]])\n",
    "b = np.array([[4,5], [2,0]])\n",
    "print(np.dot(a, b))"
   ]
  },
  {
   "cell_type": "code",
   "execution_count": null,
   "id": "4492b0df-bbc6-4cd2-9797-0c6cad53066c",
   "metadata": {},
   "outputs": [],
   "source": []
  },
  {
   "cell_type": "markdown",
   "id": "01435bb1-28a4-4212-be62-ac3f1f5f18a6",
   "metadata": {},
   "source": [
    "### Exercise 33:\n",
    "Find the trace of a square NumPy matrix."
   ]
  },
  {
   "cell_type": "code",
   "execution_count": 312,
   "id": "8f8368ae-9a37-4c10-97c9-73c61128af8a",
   "metadata": {},
   "outputs": [
    {
     "name": "stdout",
     "output_type": "stream",
     "text": [
      "5\n"
     ]
    }
   ],
   "source": [
    "a = np.array([[1,2], [3,4]])\n",
    "trace = np.trace(a)\n",
    "print(trace)"
   ]
  },
  {
   "cell_type": "code",
   "execution_count": null,
   "id": "ff5aac1e-6a80-43d6-bb8c-83904908c9d0",
   "metadata": {},
   "outputs": [],
   "source": []
  },
  {
   "cell_type": "markdown",
   "id": "3812eb50-ebf7-46b3-8f99-ed678f88980f",
   "metadata": {},
   "source": [
    "### Exercise 34:\n",
    "Create a 2D array and swap two rows."
   ]
  },
  {
   "cell_type": "code",
   "execution_count": 322,
   "id": "094fad3d-05ff-4f1a-8b3f-b02a18c1b057",
   "metadata": {},
   "outputs": [
    {
     "name": "stdout",
     "output_type": "stream",
     "text": [
      "[[1 2]\n",
      " [0 2]]\n",
      "[[0 2]\n",
      " [1 2]]\n"
     ]
    }
   ],
   "source": [
    "a = np.array([[1,2], [0,2]])\n",
    "print(a)\n",
    "a[[0,1]] = a[[1,0]]\n",
    "print(a)"
   ]
  },
  {
   "cell_type": "code",
   "execution_count": null,
   "id": "6b6b1028-723a-4c00-b210-051cee693679",
   "metadata": {},
   "outputs": [],
   "source": []
  },
  {
   "cell_type": "markdown",
   "id": "d5c32a3a-4113-4a6c-b1c7-640f059340e3",
   "metadata": {},
   "source": [
    "### Exercise 35:\n",
    "Create a 1D NumPy array and convert it into a column vector."
   ]
  },
  {
   "cell_type": "code",
   "execution_count": 332,
   "id": "cb8e7044-acdd-4d35-8223-efa14f28b20b",
   "metadata": {},
   "outputs": [
    {
     "name": "stdout",
     "output_type": "stream",
     "text": [
      "[[ 1]\n",
      " [ 2]\n",
      " [10]\n",
      " [ 7]\n",
      " [35]\n",
      " [ 3]\n",
      " [ 4]\n",
      " [ 0]\n",
      " [-6]\n",
      " [11]\n",
      " [-8]]\n"
     ]
    }
   ],
   "source": [
    "x = np.array([1,2,10,7,35,3,4,0,-6,11,-8])\n",
    "column_x = x[:, None]\n",
    "print(column_x)"
   ]
  },
  {
   "cell_type": "code",
   "execution_count": null,
   "id": "dcb0bfe8-70d3-416e-8cd8-fa494f60de5e",
   "metadata": {},
   "outputs": [],
   "source": []
  },
  {
   "cell_type": "markdown",
   "id": "32972b8e-d2ca-4060-a339-c5f0eef26560",
   "metadata": {},
   "source": [
    "### Exercise 36:\n",
    "Find the determinant of a 3x3 matrix."
   ]
  },
  {
   "cell_type": "code",
   "execution_count": 356,
   "id": "41907ef9-f568-4df8-b1a3-25b43b3401d1",
   "metadata": {},
   "outputs": [
    {
     "name": "stdout",
     "output_type": "stream",
     "text": [
      "1.0\n"
     ]
    }
   ],
   "source": [
    "a = np.array([[1,0,0], [1,1,1], [1,0,1]])\n",
    "determinant = np.linalg.det(a)\n",
    "print(determinant)"
   ]
  },
  {
   "cell_type": "code",
   "execution_count": null,
   "id": "19452869-2225-4953-94d0-a98c9dca59b2",
   "metadata": {},
   "outputs": [],
   "source": []
  },
  {
   "cell_type": "markdown",
   "id": "e8e9cc04-dd69-41a4-85b3-88a0dc2b5ea1",
   "metadata": {},
   "source": [
    "### Exercise 37:\n",
    "Find the eigenvalues and eigenvectors of a 2x2 matrix."
   ]
  },
  {
   "cell_type": "code",
   "execution_count": 344,
   "id": "e676035f-fe79-4b80-90da-e4edc5a7b5a0",
   "metadata": {},
   "outputs": [
    {
     "name": "stdout",
     "output_type": "stream",
     "text": [
      "Matrix:\n",
      "[[4 2]\n",
      " [1 3]]\n",
      "\n",
      "Eigenvalues:\n",
      "[5. 2.]\n",
      "\n",
      "Eigenvectors:\n",
      "[[ 0.89442719 -0.70710678]\n",
      " [ 0.4472136   0.70710678]]\n"
     ]
    }
   ],
   "source": [
    "import numpy as np\n",
    "\n",
    "\n",
    "matrix = np.array([[4, 2],\n",
    "                   [1, 3]])\n",
    "\n",
    "\n",
    "eigenvalues, eigenvectors = np.linalg.eig(matrix)\n",
    "\n",
    "\n",
    "print(\"Matrix:\")\n",
    "print(matrix)\n",
    "print(\"\\nEigenvalues:\")\n",
    "print(eigenvalues)\n",
    "print(\"\\nEigenvectors:\")\n",
    "print(eigenvectors)\n"
   ]
  },
  {
   "cell_type": "code",
   "execution_count": null,
   "id": "0e247e3f-16ce-4b8a-a45c-b13a4719ca3c",
   "metadata": {},
   "outputs": [],
   "source": []
  },
  {
   "cell_type": "markdown",
   "id": "86840105-267b-44de-86aa-d77cf5d617b6",
   "metadata": {},
   "source": [
    "### Exercise 38:\n",
    "Solve a system of linear equations using NumPy."
   ]
  },
  {
   "cell_type": "code",
   "execution_count": 352,
   "id": "f9f8368d-3e20-459d-bfb9-ba5079ba98e6",
   "metadata": {},
   "outputs": [
    {
     "name": "stdout",
     "output_type": "stream",
     "text": [
      "Solution:\n",
      "x = 2.8\n",
      "y = -0.2\n"
     ]
    }
   ],
   "source": [
    "import numpy as np\n",
    "\n",
    "\n",
    "A = np.array([[2, 3],\n",
    "              [4, 1]])\n",
    "\n",
    "\n",
    "b = np.array([5, 11])\n",
    "\n",
    "\n",
    "solution = np.linalg.solve(A, b)\n",
    "\n",
    "\n",
    "print(\"Solution:\")\n",
    "print(f\"x = {solution[0]}\")\n",
    "print(f\"y = {solution[1]}\")\n"
   ]
  },
  {
   "cell_type": "code",
   "execution_count": null,
   "id": "70acd332-e4e0-495f-8dae-bab9be499db1",
   "metadata": {},
   "outputs": [],
   "source": []
  },
  {
   "cell_type": "markdown",
   "id": "1ed34635-6bca-467a-9119-428e89d21ec0",
   "metadata": {},
   "source": [
    "### Exercise 39:\n",
    "Add Gaussian noise to a NumPy array."
   ]
  },
  {
   "cell_type": "code",
   "execution_count": 360,
   "id": "2e8e324c-c67e-4c07-ab69-6c0be84d0371",
   "metadata": {},
   "outputs": [
    {
     "name": "stdout",
     "output_type": "stream",
     "text": [
      "[[ 7.13609837  4.25358517  1.83473726  6.84620966  4.3170458 ]\n",
      " [10.51493235  0.75106356  8.07078378  2.40702169  2.96886304]\n",
      " [ 7.03369998  4.81561604  6.3482943   9.59005027  4.31214063]\n",
      " [ 2.97405624  9.01697529  8.50920259  4.01664763  5.72405747]\n",
      " [13.67004012  3.74324496  0.77084925  8.34912362  5.2470621 ]]\n"
     ]
    }
   ],
   "source": [
    "x = np.random.randint(1, 11, size=(5,5))\n",
    "y = 3\n",
    "gaussian_y = np.random.normal(scale=y, size=x.shape)\n",
    "z = x + gaussian_y \n",
    "print(z)"
   ]
  },
  {
   "cell_type": "code",
   "execution_count": null,
   "id": "e43c2da8-5caa-42c4-bc6a-65f3e79caed9",
   "metadata": {},
   "outputs": [],
   "source": []
  },
  {
   "cell_type": "markdown",
   "id": "59af2c8b-5cdd-4c23-9ff8-bb0e8213bd8e",
   "metadata": {},
   "source": [
    "### Exercise 40:\n",
    "Create a 4x4 matrix and extract the diagonal elements."
   ]
  },
  {
   "cell_type": "code",
   "execution_count": 362,
   "id": "09d763e0-ce8d-45c2-8b0c-f193dcd69610",
   "metadata": {},
   "outputs": [
    {
     "name": "stdout",
     "output_type": "stream",
     "text": [
      "[1 1 1 4]\n"
     ]
    }
   ],
   "source": [
    "a = np.array([[1,0,0,1], [1,1,1,2], [1,0,1,2], [1,2,3,4]])\n",
    "diagonal = np.diag(a)\n",
    "print(diagonal)"
   ]
  }
 ],
 "metadata": {
  "kernelspec": {
   "display_name": "Python 3 (ipykernel)",
   "language": "python",
   "name": "python3"
  },
  "language_info": {
   "codemirror_mode": {
    "name": "ipython",
    "version": 3
   },
   "file_extension": ".py",
   "mimetype": "text/x-python",
   "name": "python",
   "nbconvert_exporter": "python",
   "pygments_lexer": "ipython3",
   "version": "3.12.4"
  }
 },
 "nbformat": 4,
 "nbformat_minor": 5
}
