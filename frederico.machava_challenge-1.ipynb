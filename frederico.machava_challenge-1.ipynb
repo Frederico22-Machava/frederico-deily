{
 "cells": [
  {
   "cell_type": "markdown",
   "metadata": {},
   "source": [
    "1. Create a function find_max() that accepts two numeric inputs and returns the greater value. Avoid using the built-in max() function."
   ]
  },
  {
   "cell_type": "code",
   "execution_count": 21,
   "metadata": {},
   "outputs": [],
   "source": [
    "def find_max():\n",
    "    x = float(input(\"Enter any number: \"))\n",
    "    y = float(input(\"Enter other number: \"))\n",
    "    if x > y:\n",
    "        \n",
    "        return x\n",
    "    \n",
    "    if y > x:\n",
    "        \n",
    "        return y\n",
    "    "
   ]
  },
  {
   "cell_type": "code",
   "execution_count": 23,
   "metadata": {},
   "outputs": [
    {
     "name": "stdin",
     "output_type": "stream",
     "text": [
      "Enter any number:  1\n",
      "Enter other number:  2\n"
     ]
    },
    {
     "data": {
      "text/plain": [
       "2.0"
      ]
     },
     "execution_count": 23,
     "metadata": {},
     "output_type": "execute_result"
    }
   ],
   "source": [
    "find_max()"
   ]
  },
  {
   "cell_type": "code",
   "execution_count": null,
   "metadata": {},
   "outputs": [],
   "source": []
  },
  {
   "cell_type": "markdown",
   "metadata": {},
   "source": [
    "2 Develop a function find_max_of_three() to find the maximum among three given numbers."
   ]
  },
  {
   "cell_type": "code",
   "execution_count": 25,
   "metadata": {},
   "outputs": [],
   "source": [
    "def find_max_of_three():\n",
    "    x = float(input(\"Enter any number: \"))\n",
    "    y = float(input(\"Enter other number: \"))\n",
    "    z = float(input(\"Enter last number: \"))\n",
    "    if x > y > z:\n",
    "        #print(x)\n",
    "        return x\n",
    "    \n",
    "    if y > x > z:\n",
    "        #print(y)\n",
    "        return y\n",
    "\n",
    "    if z > y > x:\n",
    "        #print(y)\n",
    "        return z"
   ]
  },
  {
   "cell_type": "code",
   "execution_count": 27,
   "metadata": {},
   "outputs": [
    {
     "name": "stdin",
     "output_type": "stream",
     "text": [
      "Enter any number:  1\n",
      "Enter other number:  2\n",
      "Enter last number:  3\n"
     ]
    },
    {
     "data": {
      "text/plain": [
       "3.0"
      ]
     },
     "execution_count": 27,
     "metadata": {},
     "output_type": "execute_result"
    }
   ],
   "source": [
    "find_max_of_three()"
   ]
  },
  {
   "cell_type": "code",
   "execution_count": null,
   "metadata": {},
   "outputs": [],
   "source": []
  },
  {
   "cell_type": "markdown",
   "metadata": {},
   "source": [
    "3. Write a function to manually calculate the length of a given list or string without using len()"
   ]
  },
  {
   "cell_type": "code",
   "execution_count": 57,
   "metadata": {},
   "outputs": [],
   "source": [
    "def calculate_the_length(list):\n",
    "    count = 0 \n",
    "    for i in list:\n",
    "        count = count + 1\n",
    "\n",
    "    return count\n",
    "#print(\"The lenght of {} is \".format(list))"
   ]
  },
  {
   "cell_type": "code",
   "execution_count": 59,
   "metadata": {},
   "outputs": [
    {
     "data": {
      "text/plain": [
       "4"
      ]
     },
     "execution_count": 59,
     "metadata": {},
     "output_type": "execute_result"
    }
   ],
   "source": [
    "calculate_the_length(\"list\")"
   ]
  },
  {
   "cell_type": "code",
   "execution_count": null,
   "metadata": {},
   "outputs": [],
   "source": []
  },
  {
   "cell_type": "markdown",
   "metadata": {},
   "source": [
    "4. Implement a function that checks if a given character is a vowel (a, e, i, o, u)"
   ]
  },
  {
   "cell_type": "code",
   "execution_count": 13,
   "metadata": {},
   "outputs": [
    {
     "name": "stdin",
     "output_type": "stream",
     "text": [
      "Enter a character:  d\n"
     ]
    },
    {
     "name": "stdout",
     "output_type": "stream",
     "text": [
      "d is not a vowel.\n"
     ]
    }
   ],
   "source": [
    "def is_vowel(char):\n",
    "    \"\"\"Checks if the given character is a vowel.\"\"\"\n",
    "    vowels = 'aeiouAEIOU'\n",
    "    return char in vowels\n",
    "\n",
    "character = input(\"Enter a character: \")\n",
    "if is_vowel(character):\n",
    "    print(f\"{character} is a vowel.\")\n",
    "else:\n",
    "    print(f\"{character} is not a vowel.\")\n"
   ]
  },
  {
   "cell_type": "code",
   "execution_count": null,
   "metadata": {},
   "outputs": [],
   "source": []
  },
  {
   "cell_type": "markdown",
   "metadata": {},
   "source": [
    "5. Write a function encode() that converts a string into \"rövarspråket\" (robber's language) by doubling consonants and placing \"o\" in between, e.g., \"hello\" -> \"hohelollolo\""
   ]
  },
  {
   "cell_type": "code",
   "execution_count": null,
   "metadata": {},
   "outputs": [],
   "source": [
    "def encode(str):\n",
    "    vowels = 'aeiouAEIOU'\n",
    "    convert = \"rövarspråket\"\n",
    "    return str in convert\n",
    "\n",
    "string = input(\"Enter a string: \")\n",
    "if is_string(string):\n",
    "    print("
   ]
  },
  {
   "cell_type": "code",
   "execution_count": 15,
   "metadata": {},
   "outputs": [
    {
     "name": "stdin",
     "output_type": "stream",
     "text": [
      "Enter a string to encode:  hello\n"
     ]
    },
    {
     "name": "stdout",
     "output_type": "stream",
     "text": [
      "Encoded text: hohelollolo\n"
     ]
    }
   ],
   "source": [
    "def encode(text):\n",
    "    \"\"\"Converts a string into rövarspråket (robber's language).\"\"\"\n",
    "    vowels = 'aeiouAEIOU'\n",
    "    encoded = \"\"\n",
    "    \n",
    "    for char in text:\n",
    "        if char.isalpha() and char not in vowels:\n",
    "            \n",
    "            encoded += char + 'o' + char\n",
    "        else:\n",
    "            \n",
    "            encoded += char\n",
    "            \n",
    "    return encoded\n",
    "\n",
    "\n",
    "input_text = input(\"Enter a string to encode: \")\n",
    "encoded_text = encode(input_text)\n",
    "print(\"Encoded text:\", encoded_text)"
   ]
  },
  {
   "cell_type": "code",
   "execution_count": null,
   "metadata": {},
   "outputs": [],
   "source": []
  },
  {
   "cell_type": "markdown",
   "metadata": {},
   "source": [
    "Create sum_elements() and product_elements() functions to sum and multiply all elements in a list, respectively.\r\n"
   ]
  },
  {
   "cell_type": "code",
   "execution_count": null,
   "metadata": {},
   "outputs": [],
   "source": []
  },
  {
   "cell_type": "markdown",
   "metadata": {
    "id": "sm-kMbirqqyt"
   },
   "source": [
    "# PyPro: challenge 1 \n",
    "\n",
    "### This challenge is due on Sunday 29th September 2024 at 8pm.\n",
    "\n",
    "`These exercises provide a wide range of challenges that test your understanding of Python's core concepts, such as control structures, data types, string manipulations, list comprehensions, and higher-order functions.`\n",
    "\n",
    "\n",
    "#### Basic Tasks\n",
    "\n",
    "1. Create a function `find_max()` that accepts two numeric inputs and returns the greater value. Avoid using the built-in `max()` function.\n",
    "\n",
    "2. Develop a function `find_max_of_three()` to find the maximum among three given numbers.\n",
    "\n",
    "3. Write a function to manually calculate the length of a given list or string without using `len()`.\n",
    "\n",
    "4. Implement a function that checks if a given character is a vowel (a, e, i, o, u).\n",
    "\n",
    "5. Write a function `encode()` that converts a string into \"rövarspråket\" ([robber's language](https://en.wikipedia.org/wiki/R%C3%B6varspr%C3%A5ket)) by doubling consonants and placing \"o\" in between, e.g., \"hello\" -> \"hohelollolo\".\n",
    "\n",
    "6. Create `sum_elements()` and `product_elements()` functions to sum and multiply all elements in a list, respectively.\n",
    "\n",
    "7. Define a function `reverse_string()` to reverse the characters in a given string.\n",
    "\n",
    "8. Implement `check_palindrome()` to verify if a string reads the same forwards and backwards, i.e. is a [palindrome](https://en.wikipedia.org/wiki/Palindrome).\n",
    "\n",
    "9. Develop a function `check_membership()` to determine if a value exists within a list.\n",
    "\n",
    "10. Write `check_overlap()` to identify if two lists share any elements.\n",
    "\n",
    "11. Implement `repeat_char()` that generates a string with a specified character repeated `n` times.\n",
    "\n",
    "12. Create a function `print_histogram()` that takes a list of integers and prints a corresponding histogram.\n",
    "\n",
    "13. Write `find_max_in_list()` to identify the largest number in a list of arbitrary length.\n",
    "\n",
    "14. Create a program that maps each word in a list to its length.\n",
    "\n",
    "15. Implement `longest_word()` to find the longest word in a list.\n",
    "\n",
    "16. Develop `filter_words()` to return words longer than a specified length from a list.\n",
    "\n",
    "17. Enhance the palindrome recognizer to handle phrases, ignoring spaces, punctuation, and case.\n",
    "\n",
    "18. Implement a function that checks if a given sentence is a [pangram](https://en.wikipedia.org/wiki/Pangram).\n",
    "\n",
    "19. Write a function that generates verses for the \"99 Bottles of Beer\" song.\n",
    "\n",
    "20. Create a translation function using a small dictionary to translate English words into French/.\n",
    "\n",
    "21. Develop `char_frequency()` to build a dictionary of character frequencies in a string.\n",
    "\n",
    "22. Implement a [Caesar cipher encoder/decoder using a shift of 13 (ROT-13)](https://en.wikipedia.org/wiki/ROT13).\n",
    "\n",
    "23. Create `fix_spaces()` to correct multiple spaces and missing spaces after periods in a text.\n",
    "\n",
    "24. Write `convert_to_third_person()` to transform verbs into their third person singular form.\n",
    "\n",
    "25. Implement `make_ing_form()` to convert verbs into their present participle form using heuristic rules.\n",
    "\n",
    "\n",
    "\n",
    "\n",
    "\n",
    "#### Higher-Order Functions and List Comprehensions\n",
    "\n",
    "26. Use `reduce()` to write `max_in_list()` that returns the largest number in a list.\n",
    "\n",
    "27. Write a program that maps words to their lengths using a for-loop, `map()`, and list comprehensions.\n",
    "\n",
    "28. Implement `find_longest_word()` using only higher-order functions.\n",
    "\n",
    "29. Use `filter()` to write `filter_long_words()` that filters words longer than `n`.\n",
    "\n",
    "30. Create `translate_with_map()` to translate English words to French using `map()`.\n",
    "\n",
    "31. Re-implement the higher-order functions `map()`, `filter()`, and `reduce()` from scratch.\n",
    "\n",
    "\n",
    "\n",
    "\n",
    "\n",
    "#### Simple Tasks with I/O\n",
    "\n",
    "32. Write a palindrome recognizer that reads lines from a file and prints only the palindromes.\n",
    "\n",
    "33. Implement a [semordnilap](https://en.wiktionary.org/wiki/semordnilap) recognizer that finds word pairs from a file where each word is the reverse of the other.\n",
    "\n",
    "34. Create `char_frequency_table()` to display a sorted character frequency table from a file.\n",
    "\n",
    "35. Write a function `speak_ICAO()` that translates text into the [ICAO phonetic alphabet](https://en.wikipedia.org/wiki/NATO_phonetic_alphabet).\n",
    "\n",
    "36. Implement `find_hapaxes()` to identify words that occur only once in a text file.\n",
    "\n",
    "37. Write a program that numbers each line in a text file.\n",
    "\n",
    "38. Calculate the average word length in a text file.\n",
    "\n",
    "39. Implement a number-guessing game where the user guesses a number between 1 and 20.\n",
    "\n",
    "40. Write a program that presents an [anagram](https://en.wikipedia.org/wiki/Anagram) of a randomly chosen word and allows the user to guess the original.\n",
    "\n",
    "41. Create a [Lingo game](https://en.wikipedia.org/wiki/Lingo_(American_game_show)) where players guess a hidden word, receiving clues about correct and misplaced characters.\n",
    "\n",
    "\n",
    "\n",
    "#### Advanced Tasks\n",
    "\n",
    "42. Develop a sentence splitter that separates a text into sentences based on various heuristics.\n",
    "\n",
    "43. Write a program to find the largest group of anagrams in a given word list.\n",
    "\n",
    "44. Generate a string of balanced brackets and verify if it is balanced.\n",
    "\n",
    "45. Create a word chain game where each word starts with the last letter of the previous one, using a list of [Pokemon names](https://en.wikipedia.org/wiki/List_of_Pok%C3%A9mon)."
   ]
  }
 ],
 "metadata": {
  "colab": {
   "provenance": []
  },
  "kernelspec": {
   "display_name": "Python 3 (ipykernel)",
   "language": "python",
   "name": "python3"
  },
  "language_info": {
   "codemirror_mode": {
    "name": "ipython",
    "version": 3
   },
   "file_extension": ".py",
   "mimetype": "text/x-python",
   "name": "python",
   "nbconvert_exporter": "python",
   "pygments_lexer": "ipython3",
   "version": "3.12.4"
  }
 },
 "nbformat": 4,
 "nbformat_minor": 4
}
